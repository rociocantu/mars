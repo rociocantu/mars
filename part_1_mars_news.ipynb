{
 "cells": [
  {
   "cell_type": "markdown",
   "metadata": {},
   "source": [
    "# Module 12 Challenge\n",
    "## Deliverable 1: Scrape Titles and Preview Text from Mars News"
   ]
  },
  {
   "cell_type": "code",
   "execution_count": 1,
   "metadata": {},
   "outputs": [],
   "source": [
    "# Import Splinter and BeautifulSoup\n",
    "from splinter import Browser\n",
    "from bs4 import BeautifulSoup as soup"
   ]
  },
  {
   "cell_type": "code",
   "execution_count": 2,
   "metadata": {
    "scrolled": true
   },
   "outputs": [],
   "source": [
    "# Set up Splinter\n",
    "from selenium.webdriver.chrome.service import Service\n",
    "\n",
    "my_service = Service(executable_path='C://Users/bkeut/OneDrive/Desktop/chromedriver.exe')\n",
    "browser = Browser('chrome', service=my_service)"
   ]
  },
  {
   "cell_type": "markdown",
   "metadata": {},
   "source": [
    "### Step 1: Visit the Website\n",
    "\n",
    "1. Use automated browsing to visit the [Mars news site](https://static.bc-edx.com/data/web/mars_news/index.html). Inspect the page to identify which elements to scrape.\n",
    "\n",
    "      > **Hint** To identify which elements to scrape, you might want to inspect the page by using Chrome DevTools."
   ]
  },
  {
   "cell_type": "code",
   "execution_count": 3,
   "metadata": {},
   "outputs": [
    {
     "data": {
      "text/plain": [
       "True"
      ]
     },
     "execution_count": 3,
     "metadata": {},
     "output_type": "execute_result"
    }
   ],
   "source": [
    "# Visit the Mars news site: https://static.bc-edx.com/data/web/mars_news/index.html\n",
    "url = 'https://static.bc-edx.com/data/web/mars_news/index.html'\n",
    "browser.visit(url)\n",
    "browser.is_element_present_by_css('div.list_text', wait_time=1)"
   ]
  },
  {
   "cell_type": "markdown",
   "metadata": {},
   "source": [
    "### Step 2: Scrape the Website\n",
    "\n",
    "Create a Beautiful Soup object and use it to extract text elements from the website."
   ]
  },
  {
   "cell_type": "code",
   "execution_count": 4,
   "metadata": {},
   "outputs": [],
   "source": [
    "# Scrape the website\n",
    "html = browser.html\n",
    "\n",
    "# Create a BeautifulSoup object from the scraped HTML\n",
    "soup = soup(html, 'html.parser')"
   ]
  },
  {
   "cell_type": "code",
   "execution_count": 5,
   "metadata": {},
   "outputs": [
    {
     "name": "stdout",
     "output_type": "stream",
     "text": [
      "['', '', '', '', '', '', 'News - Mars Exploration Program', '', '', '', '', '', '', '', '', 'MARS Planet Science', '', 'Exploration Program', '', '', '', '', '', '', '', '', 'The Red Planet', '', '', '', 'The Program', '', '', '', 'News & Events', '', '', '', 'Multimedia', '', '', '', 'Missions', '', '', '', 'More', '', '', '', '', '', '', '', '', '', '', '', 'News', '', '', '', '', '', '', '', '', '', 'Latest', '', '', '', '', '', 'All Categories', '', '', '', '', '', '', '', '', '', '', '', '', '', '', '', '', '', '', '', '', '', 'November 9, 2022', '', \"NASA's MAVEN Observes Martian Light Show Caused by Major Solar Storm\", '', 'For the first time in its eight years orbiting Mars, NASA’s MAVEN mission witnessed two different types of ultraviolet aurorae simultaneously, the result of solar storms that began on Aug. 27.', '', '', '', '', '', '', '', '', '', '', '', '', '', '', '', 'November 1, 2022', '', \"NASA Prepares to Say 'Farewell' to InSight Spacecraft\", '', 'A closer look at what goes into wrapping up the mission as the spacecraft’s power supply continues to dwindle.', '', '', '', '', '', '', '', '', '', '', '', '', '', '', '', 'October 28, 2022', '', 'NASA and ESA Agree on Next Steps to Return Mars Samples to Earth', '', 'The agency’s Perseverance rover will establish the first sample depot on Mars.', '', '', '', '', '', '', '', '', '', '', '', '', '', '', '', 'October 27, 2022', '', \"NASA's InSight Lander Detects Stunning Meteoroid Impact on Mars\", '', 'The agency’s lander felt the ground shake during the impact while cameras aboard the Mars Reconnaissance Orbiter spotted the yawning new crater from space.', '', '', '', '', '', '', '', '', '', '', '', '', '', '', '', 'October 21, 2022', '', 'NASA To Host Briefing on InSight, Mars Reconnaissance Orbiter Findings', '', 'Scientists from two Mars missions will discuss how they combined images and data for a major finding on the Red Planet.', '', '', '', '', '', '', '', '', '', '', '', '', '', '', '', 'October 20, 2022', '', 'Why NASA Is Trying To Crash Land on Mars', '', 'Like a car’s crumple zone, the experimental SHIELD lander is designed to absorb a hard impact.', '', '', '', '', '', '', '', '', '', '', '', '', '', '', '', 'October 19, 2022', '', 'Curiosity Mars Rover Reaches Long-Awaited Salty Region', '', 'After years of climbing, the Mars rover has arrived at a special region believed to have formed as Mars’ climate was drying.', '', '', '', '', '', '', '', '', '', '', '', '', '', '', '', 'October 12, 2022', '', 'Mars Mission Shields Up for Tests', '', 'Protecting Mars Sample Return spacecraft from micrometeorites requires high-caliber work.', '', '', '', '', '', '', '', '', '', '', '', '', '', '', '', 'October 7, 2022', '', \"NASA's InSight Waits Out Dust Storm\", '', 'InSight’s team is taking steps to help the solar-powered lander continue operating for as long as possible.', '', '', '', '', '', '', '', '', '', '', '', '', '', '', '', 'September 19, 2022', '', \"NASA's InSight 'Hears' Its First Meteoroid Impacts on Mars\", '', 'The Mars lander’s seismometer has picked up vibrations from four separate impacts in the past two years.', '', '', '', '', '', '', '', '', '', '', '', '', '', '', '', 'September 15, 2022', '', \"NASA's Perseverance Rover Investigates Geologically Rich Mars Terrain\", '', 'The latest findings provide greater detail on a region of the Red Planet that has a watery past and is yielding promising samples for the NASA-ESA Mars Sample Return campaign.', '', '', '', '', '', '', '', '', '', '', '', '', '', '', '', 'September 12, 2022', '', 'NASA to Host Briefing on Perseverance Mars Rover Mission Operations', '', 'Members of the mission will discuss the rover’s activities as it gathers samples in an ancient river delta.', '', '', '', '', '', '', '', '', '', '', '', '', '', '', '', 'August 25, 2022', '', \"NASA's Perseverance Makes New Discoveries in Mars' Jezero Crater\", '', 'The rover found that Jezero Crater’s floor is made up of volcanic rocks that have interacted with water.', '', '', '', '', '', '', '', '', '', '', '', '', '', '', '', 'August 5, 2022', '', \"10 Years Since Landing, NASA's Curiosity Mars Rover Still Has Drive\", '', 'Despite signs of wear, the intrepid spacecraft is about to start an exciting new chapter of its mission as it climbs a Martian mountain.', '', '', '', '', '', '', '', '', '', '', '', '', '', '', '', 'August 4, 2022', '', \"SAM's Top 5 Discoveries Aboard NASA's Curiosity Rover at Mars\", '', '“Selfie” of the Curiosity rover with inset showing the SAM instrument prior to installation on the rover.', '', '', '', '', '', '', '', 'More', '', '', '', '', '', '', 'You Might Also Like', '', '', '', '', '', '', '', '', '', '', '', 'NASA Marks 25 Years Since Pathfinder Touched Down on Mars', '', '', '', '', '', '', '', '', \"NASA's Perseverance Rover Captures Video of Solar Eclipse on Mars\", '', '', '', '', '', '', '', '', 'NASA, UAE Mars Missions Agree to Share Science Data', '', '', '', '', '', '', '', '', '', '', '', '', '', '', '', '', '', 'The Red Planet', '', '', 'Dashboard', '', 'Science Goals', '', 'The Planet', '', '', '', '', 'The Program', '', '', 'Mission Statement', '', 'About the Program', '', 'Organization Why Mars?', '', '', '', '', 'Multimedia', '', '', 'Images', '', 'Videos', '', 'More Resources', '', '', '', '', 'Missions', '', '', 'Past', '', 'Present', '', 'Future', '', '', '', '', '', '', '', '', \"Images and news content extracted from NASA's\", 'Mars News', 'website on November 9, 2022.', 'Images used in accordance with the', 'JPL Image Use Policy', '.', '', '', 'This site is operated by edX Boot Camps LLC for educational purposes only.', 'This is not a website endorsed by NASA. This website is intended only for internal academic purposes.', '', '', '']\n"
     ]
    },
    {
     "name": "stderr",
     "output_type": "stream",
     "text": [
      "C:\\Users\\bkeut\\anaconda3\\envs\\PythonData\\lib\\site-packages\\ipykernel_launcher.py:2: DeprecationWarning: The 'text' argument to find()-type methods is deprecated. Use 'string' instead.\n",
      "  \n"
     ]
    }
   ],
   "source": [
    "# Extract all the text elements\n",
    "text_elements = [element.text.strip() for element in soup.find_all(text=True)]\n",
    "\n",
    "# Print the text elements\n",
    "print(text_elements)"
   ]
  },
  {
   "cell_type": "markdown",
   "metadata": {},
   "source": [
    "### Step 3: Store the Results\n",
    "\n",
    "Extract the titles and preview text of the news articles that you scraped. Store the scraping results in Python data structures as follows:\n",
    "\n",
    "* Store each title-and-preview pair in a Python dictionary. And, give each dictionary two keys: `title` and `preview`. An example is the following:\n",
    "\n",
    "  ```python\n",
    "  {'title': \"NASA's MAVEN Observes Martian Light Show Caused by Major Solar Storm\", \n",
    "   'preview': \"For the first time in its eight years orbiting Mars, NASA’s MAVEN mission witnessed two different types of ultraviolet aurorae simultaneously, the result of solar storms that began on Aug. 27.\"\n",
    "  }\n",
    "  ```\n",
    "\n",
    "* Store all the dictionaries in a Python list.\n",
    "\n",
    "* Print the list in your notebook."
   ]
  },
  {
   "cell_type": "code",
   "execution_count": 6,
   "metadata": {},
   "outputs": [],
   "source": [
    "# Create an empty list to store the dictionaries\n",
    "news_items = []"
   ]
  },
  {
   "cell_type": "code",
   "execution_count": 8,
   "metadata": {},
   "outputs": [],
   "source": [
    "# Find all text elements on the website\n",
    "text_elements = soup.find_all(\"div\", class_=[\"content_title\", \"article_teaser_body\"])\n",
    "\n",
    "# Loop through the text elements and extract the title and preview text from the elements\n",
    "for i in range(0, len(text_elements), 2):\n",
    "    title = text_elements[i].get_text().strip()\n",
    "    preview = text_elements[i+1].get_text().strip()\n",
    "\n",
    "    # Store each title and preview pair in a dictionary\n",
    "    item_dict = {\"title\": title, \"preview\": preview}\n",
    "\n",
    "    # Add the dictionary to the list\n",
    "    news_items.append(item_dict)\n"
   ]
  },
  {
   "cell_type": "code",
   "execution_count": 9,
   "metadata": {},
   "outputs": [
    {
     "name": "stdout",
     "output_type": "stream",
     "text": [
      "[{'title': \"NASA's MAVEN Observes Martian Light Show Caused by Major Solar Storm\", 'preview': 'For the first time in its eight years orbiting Mars, NASA’s MAVEN mission witnessed two different types of ultraviolet aurorae simultaneously, the result of solar storms that began on Aug. 27.'}, {'title': \"NASA Prepares to Say 'Farewell' to InSight Spacecraft\", 'preview': 'A closer look at what goes into wrapping up the mission as the spacecraft’s power supply continues to dwindle.'}, {'title': 'NASA and ESA Agree on Next Steps to Return Mars Samples to Earth', 'preview': 'The agency’s Perseverance rover will establish the first sample depot on Mars.'}, {'title': \"NASA's InSight Lander Detects Stunning Meteoroid Impact on Mars\", 'preview': 'The agency’s lander felt the ground shake during the impact while cameras aboard the Mars Reconnaissance Orbiter spotted the yawning new crater from space.'}, {'title': 'NASA To Host Briefing on InSight, Mars Reconnaissance Orbiter Findings', 'preview': 'Scientists from two Mars missions will discuss how they combined images and data for a major finding on the Red Planet.'}, {'title': 'Why NASA Is Trying To Crash Land on Mars', 'preview': 'Like a car’s crumple zone, the experimental SHIELD lander is designed to absorb a hard impact.'}, {'title': 'Curiosity Mars Rover Reaches Long-Awaited Salty Region', 'preview': 'After years of climbing, the Mars rover has arrived at a special region believed to have formed as Mars’ climate was drying.'}, {'title': 'Mars Mission Shields Up for Tests', 'preview': 'Protecting Mars Sample Return spacecraft from micrometeorites requires high-caliber work.'}, {'title': \"NASA's InSight Waits Out Dust Storm\", 'preview': 'InSight’s team is taking steps to help the solar-powered lander continue operating for as long as possible.'}, {'title': \"NASA's InSight 'Hears' Its First Meteoroid Impacts on Mars\", 'preview': 'The Mars lander’s seismometer has picked up vibrations from four separate impacts in the past two years.'}, {'title': \"NASA's Perseverance Rover Investigates Geologically Rich Mars Terrain\", 'preview': 'The latest findings provide greater detail on a region of the Red Planet that has a watery past and is yielding promising samples for the NASA-ESA Mars Sample Return campaign.'}, {'title': 'NASA to Host Briefing on Perseverance Mars Rover Mission Operations', 'preview': 'Members of the mission will discuss the rover’s activities as it gathers samples in an ancient river delta.'}, {'title': \"NASA's Perseverance Makes New Discoveries in Mars' Jezero Crater\", 'preview': 'The rover found that Jezero Crater’s floor is made up of volcanic rocks that have interacted with water.'}, {'title': \"10 Years Since Landing, NASA's Curiosity Mars Rover Still Has Drive\", 'preview': 'Despite signs of wear, the intrepid spacecraft is about to start an exciting new chapter of its mission as it climbs a Martian mountain.'}, {'title': \"SAM's Top 5 Discoveries Aboard NASA's Curiosity Rover at Mars\", 'preview': '“Selfie” of the Curiosity rover with inset showing the SAM instrument prior to installation on the rover.'}, {'title': \"NASA's MAVEN Observes Martian Light Show Caused by Major Solar Storm\", 'preview': 'For the first time in its eight years orbiting Mars, NASA’s MAVEN mission witnessed two different types of ultraviolet aurorae simultaneously, the result of solar storms that began on Aug. 27.'}, {'title': \"NASA Prepares to Say 'Farewell' to InSight Spacecraft\", 'preview': 'A closer look at what goes into wrapping up the mission as the spacecraft’s power supply continues to dwindle.'}, {'title': 'NASA and ESA Agree on Next Steps to Return Mars Samples to Earth', 'preview': 'The agency’s Perseverance rover will establish the first sample depot on Mars.'}, {'title': \"NASA's InSight Lander Detects Stunning Meteoroid Impact on Mars\", 'preview': 'The agency’s lander felt the ground shake during the impact while cameras aboard the Mars Reconnaissance Orbiter spotted the yawning new crater from space.'}, {'title': 'NASA To Host Briefing on InSight, Mars Reconnaissance Orbiter Findings', 'preview': 'Scientists from two Mars missions will discuss how they combined images and data for a major finding on the Red Planet.'}, {'title': 'Why NASA Is Trying To Crash Land on Mars', 'preview': 'Like a car’s crumple zone, the experimental SHIELD lander is designed to absorb a hard impact.'}, {'title': 'Curiosity Mars Rover Reaches Long-Awaited Salty Region', 'preview': 'After years of climbing, the Mars rover has arrived at a special region believed to have formed as Mars’ climate was drying.'}, {'title': 'Mars Mission Shields Up for Tests', 'preview': 'Protecting Mars Sample Return spacecraft from micrometeorites requires high-caliber work.'}, {'title': \"NASA's InSight Waits Out Dust Storm\", 'preview': 'InSight’s team is taking steps to help the solar-powered lander continue operating for as long as possible.'}, {'title': \"NASA's InSight 'Hears' Its First Meteoroid Impacts on Mars\", 'preview': 'The Mars lander’s seismometer has picked up vibrations from four separate impacts in the past two years.'}, {'title': \"NASA's Perseverance Rover Investigates Geologically Rich Mars Terrain\", 'preview': 'The latest findings provide greater detail on a region of the Red Planet that has a watery past and is yielding promising samples for the NASA-ESA Mars Sample Return campaign.'}, {'title': 'NASA to Host Briefing on Perseverance Mars Rover Mission Operations', 'preview': 'Members of the mission will discuss the rover’s activities as it gathers samples in an ancient river delta.'}, {'title': \"NASA's Perseverance Makes New Discoveries in Mars' Jezero Crater\", 'preview': 'The rover found that Jezero Crater’s floor is made up of volcanic rocks that have interacted with water.'}, {'title': \"10 Years Since Landing, NASA's Curiosity Mars Rover Still Has Drive\", 'preview': 'Despite signs of wear, the intrepid spacecraft is about to start an exciting new chapter of its mission as it climbs a Martian mountain.'}, {'title': \"SAM's Top 5 Discoveries Aboard NASA's Curiosity Rover at Mars\", 'preview': '“Selfie” of the Curiosity rover with inset showing the SAM instrument prior to installation on the rover.'}]\n"
     ]
    }
   ],
   "source": [
    "# Print the list to confirm success\n",
    "print(news_items)"
   ]
  },
  {
   "cell_type": "code",
   "execution_count": 10,
   "metadata": {},
   "outputs": [],
   "source": [
    "browser.quit()"
   ]
  },
  {
   "cell_type": "code",
   "execution_count": null,
   "metadata": {},
   "outputs": [],
   "source": []
  }
 ],
 "metadata": {
  "kernelspec": {
   "display_name": "Python 3 (ipykernel)",
   "language": "python",
   "name": "python3"
  },
  "language_info": {
   "codemirror_mode": {
    "name": "ipython",
    "version": 3
   },
   "file_extension": ".py",
   "mimetype": "text/x-python",
   "name": "python",
   "nbconvert_exporter": "python",
   "pygments_lexer": "ipython3",
   "version": "3.7.7"
  }
 },
 "nbformat": 4,
 "nbformat_minor": 4
}
